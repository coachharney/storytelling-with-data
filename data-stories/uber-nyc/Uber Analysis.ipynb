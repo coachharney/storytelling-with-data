{
 "cells": [
  {
   "cell_type": "code",
   "execution_count": 2,
   "metadata": {
    "collapsed": true
   },
   "outputs": [],
   "source": [
    "import pandas as pd\n",
    "import numpy as np\n",
    "import matplotlib.pyplot as plt\n",
    "import hypertools as hyp\n",
    "import seaborn as sns\n",
    "%matplotlib inline"
   ]
  },
  {
   "cell_type": "code",
   "execution_count": 3,
   "metadata": {
    "collapsed": true
   },
   "outputs": [],
   "source": [
    "#load in the data\n",
    "\n",
    "fname1 = 'Uber-Jan-Feb-FOIL.csv'\n",
    "columns1 = ('dispatching_base_number', 'date', 'active_vehicles', 'trips')\n",
    "FOIL_df = pd.read_csv(fname1, skiprows=[0], names=columns1)\n"
   ]
  },
  {
   "cell_type": "code",
   "execution_count": 14,
   "metadata": {
    "collapsed": true
   },
   "outputs": [],
   "source": [
    "fname2 = 'Aggregate FHV Data.xlsx'\n",
    "\n",
    "\n",
    "sheet1 = 'Trips Per Day'\n",
    "sheet2 = 'Trips Per Hour and Weekday'\n",
    "sheet3 = 'Change in Trips Sep 2013-2014'\n",
    "sheet4 = 'Change in Daily Trips by Hour'\n",
    "\n",
    "FHV_col1 = ('Date', 'American', 'Carmel', 'Dial 7', 'Diplo', 'Firstclass', 'Highclass', \n",
    "            'Prestige', 'Skyline', 'Lyft', 'Uber', 'Yellow Taxis', 'Green Taxis')\n",
    "FHV_col3 = ('Location', 'Uber and Lyft Trips Per Day 2014', \n",
    "            'Yellow Taxi Trips Per Day 2014', 'Yellow Taxi Trips Per Day 2013')\n",
    "FHV_col4 = ('Hour', 'Uber and Lyft Trips in MN Core (Sep 2014)', \n",
    "           'Change in Daily Yellow Trips in MN Core (Sep 2014 compared with Sep 2013')\n",
    "\n",
    "## data key: MN, JFK, LGA\n",
    "FHV_df1 = pd.read_excel(fname2, sheetname = sheet1, skiprows=[0], names = FHV_col1)\n",
    "FHV_df3 = pd.read_excel(fname2, sheetname = sheet3, skiprows=[0], names = FHV_col3)\n",
    "FHV_df4 = pd.read_excel(fname2, sheetname = sheet4, skiprows=[0], names = FHV_col4)"
   ]
  },
  {
   "cell_type": "code",
   "execution_count": 16,
   "metadata": {},
   "outputs": [],
   "source": [
    "FHV_df1.set_index('Date', inplace=True)"
   ]
  },
  {
   "cell_type": "code",
   "execution_count": 17,
   "metadata": {},
   "outputs": [
    {
     "data": {
      "text/html": [
       "<div>\n",
       "<style>\n",
       "    .dataframe thead tr:only-child th {\n",
       "        text-align: right;\n",
       "    }\n",
       "\n",
       "    .dataframe thead th {\n",
       "        text-align: left;\n",
       "    }\n",
       "\n",
       "    .dataframe tbody tr th {\n",
       "        vertical-align: top;\n",
       "    }\n",
       "</style>\n",
       "<table border=\"1\" class=\"dataframe\">\n",
       "  <thead>\n",
       "    <tr style=\"text-align: right;\">\n",
       "      <th></th>\n",
       "      <th>American</th>\n",
       "      <th>Carmel</th>\n",
       "      <th>Dial 7</th>\n",
       "      <th>Diplo</th>\n",
       "      <th>Firstclass</th>\n",
       "      <th>Highclass</th>\n",
       "      <th>Prestige</th>\n",
       "      <th>Skyline</th>\n",
       "      <th>Lyft</th>\n",
       "      <th>Uber</th>\n",
       "      <th>Yellow Taxis</th>\n",
       "      <th>Green Taxis</th>\n",
       "    </tr>\n",
       "    <tr>\n",
       "      <th>Date</th>\n",
       "      <th></th>\n",
       "      <th></th>\n",
       "      <th></th>\n",
       "      <th></th>\n",
       "      <th></th>\n",
       "      <th></th>\n",
       "      <th></th>\n",
       "      <th></th>\n",
       "      <th></th>\n",
       "      <th></th>\n",
       "      <th></th>\n",
       "      <th></th>\n",
       "    </tr>\n",
       "  </thead>\n",
       "  <tbody>\n",
       "    <tr>\n",
       "      <th>2014-07-02</th>\n",
       "      <td>1028</td>\n",
       "      <td>2965</td>\n",
       "      <td>2409</td>\n",
       "      <td>1275</td>\n",
       "      <td>2228</td>\n",
       "      <td>1661</td>\n",
       "      <td>3533</td>\n",
       "      <td>1691</td>\n",
       "      <td>0</td>\n",
       "      <td>26480</td>\n",
       "      <td>434416</td>\n",
       "      <td>42472</td>\n",
       "    </tr>\n",
       "    <tr>\n",
       "      <th>2014-07-03</th>\n",
       "      <td>1068</td>\n",
       "      <td>3361</td>\n",
       "      <td>2520</td>\n",
       "      <td>1200</td>\n",
       "      <td>2121</td>\n",
       "      <td>1599</td>\n",
       "      <td>3649</td>\n",
       "      <td>1157</td>\n",
       "      <td>0</td>\n",
       "      <td>21597</td>\n",
       "      <td>412980</td>\n",
       "      <td>46046</td>\n",
       "    </tr>\n",
       "    <tr>\n",
       "      <th>2014-07-04</th>\n",
       "      <td>1008</td>\n",
       "      <td>2174</td>\n",
       "      <td>1955</td>\n",
       "      <td>1171</td>\n",
       "      <td>1459</td>\n",
       "      <td>1622</td>\n",
       "      <td>3401</td>\n",
       "      <td>337</td>\n",
       "      <td>0</td>\n",
       "      <td>14148</td>\n",
       "      <td>306773</td>\n",
       "      <td>41535</td>\n",
       "    </tr>\n",
       "    <tr>\n",
       "      <th>2014-07-05</th>\n",
       "      <td>1214</td>\n",
       "      <td>1846</td>\n",
       "      <td>1371</td>\n",
       "      <td>1371</td>\n",
       "      <td>1703</td>\n",
       "      <td>1898</td>\n",
       "      <td>4081</td>\n",
       "      <td>276</td>\n",
       "      <td>0</td>\n",
       "      <td>10890</td>\n",
       "      <td>305653</td>\n",
       "      <td>46873</td>\n",
       "    </tr>\n",
       "    <tr>\n",
       "      <th>2014-07-06</th>\n",
       "      <td>1048</td>\n",
       "      <td>2480</td>\n",
       "      <td>1872</td>\n",
       "      <td>1251</td>\n",
       "      <td>1501</td>\n",
       "      <td>1738</td>\n",
       "      <td>3545</td>\n",
       "      <td>401</td>\n",
       "      <td>0</td>\n",
       "      <td>11443</td>\n",
       "      <td>310376</td>\n",
       "      <td>40354</td>\n",
       "    </tr>\n",
       "  </tbody>\n",
       "</table>\n",
       "</div>"
      ],
      "text/plain": [
       "            American  Carmel  Dial 7  Diplo  Firstclass  Highclass  Prestige  \\\n",
       "Date                                                                           \n",
       "2014-07-02      1028    2965    2409   1275        2228       1661      3533   \n",
       "2014-07-03      1068    3361    2520   1200        2121       1599      3649   \n",
       "2014-07-04      1008    2174    1955   1171        1459       1622      3401   \n",
       "2014-07-05      1214    1846    1371   1371        1703       1898      4081   \n",
       "2014-07-06      1048    2480    1872   1251        1501       1738      3545   \n",
       "\n",
       "            Skyline  Lyft   Uber  Yellow Taxis  Green Taxis  \n",
       "Date                                                         \n",
       "2014-07-02     1691     0  26480        434416        42472  \n",
       "2014-07-03     1157     0  21597        412980        46046  \n",
       "2014-07-04      337     0  14148        306773        41535  \n",
       "2014-07-05      276     0  10890        305653        46873  \n",
       "2014-07-06      401     0  11443        310376        40354  "
      ]
     },
     "execution_count": 17,
     "metadata": {},
     "output_type": "execute_result"
    }
   ],
   "source": [
    "FHV_df1.head()"
   ]
  },
  {
   "cell_type": "code",
   "execution_count": 13,
   "metadata": {},
   "outputs": [
    {
     "data": {
      "image/png": "[encoded data removed]",
      "text/plain": [
       "<matplotlib.figure.Figure at 0x7f1a52940b00>"
      ]
     },
     "metadata": {},
     "output_type": "display_data"
    },
    {
     "data": {
      "text/plain": [
       "(<matplotlib.figure.Figure at 0x7f1a52940b00>,\n",
       " <matplotlib.axes._subplots.Axes3DSubplot at 0x7f1a16fa9940>,\n",
       " [array([[  1028,   2965,   2409, ...,  26480, 434416,  42472],\n",
       "         [  1068,   3361,   2520, ...,  21597, 412980,  46046],\n",
       "         [  1008,   2174,   1955, ...,  14148, 306773,  41535],\n",
       "         ..., \n",
       "         [  1080,   2559,   1949, ...,  29656, 429068,  51832],\n",
       "         [   772,   3225,   2349, ...,  29201, 396191,  37657],\n",
       "         [   848,   2824,   2004, ...,  33431, 431354,  38665]])],\n",
       " None)"
      ]
     },
     "execution_count": 13,
     "metadata": {},
     "output_type": "execute_result"
    }
   ],
   "source": [
    "hyp.plot(FHV_df1, model='SpectralEmbedding')"
   ]
  },
  {
   "cell_type": "code",
   "execution_count": null,
   "metadata": {
    "collapsed": true
   },
   "outputs": [],
   "source": []
  }
 ],
 "metadata": {
  "kernelspec": {
   "display_name": "Python 3",
   "language": "python",
   "name": "python3"
  },
  "language_info": {
   "codemirror_mode": {
    "name": "ipython",
    "version": 3
   },
   "file_extension": ".py",
   "mimetype": "text/x-python",
   "name": "python",
   "nbconvert_exporter": "python",
   "pygments_lexer": "ipython3",
   "version": "3.6.1"
  }
 },
 "nbformat": 4,
 "nbformat_minor": 2
}
